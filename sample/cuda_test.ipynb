{
 "cells": [
  {
   "cell_type": "code",
   "execution_count": 2,
   "metadata": {},
   "outputs": [
    {
     "name": "stdout",
     "output_type": "stream",
     "text": [
      "torch.cuda.is_available():True\n",
      "torch.cudatorch.cuda.device_count():1\n",
      "Quadro RTX 8000\n",
      "0: torch.cuda.get_device_properties(0) : \n",
      "\t _CudaDeviceProperties(name='Quadro RTX 8000', major=7, minor=5, total_memory=48586MB, multi_processor_count=72)\n"
     ]
    }
   ],
   "source": [
    "import torch\n",
    "\n",
    "# cuda test\n",
    "print(f'torch.cuda.is_available():{torch.cuda.is_available()}')\n",
    "print(f'torch.cudatorch.cuda.device_count():{torch.cuda.device_count()}')\n",
    "print(torch.cuda.get_device_name())\n",
    "count = torch.cuda.device_count()\n",
    "for i in range(count):\n",
    "    print(f'{i}: torch.cuda.get_device_properties(0) : \\n\\t {torch.cuda.get_device_properties(i)}')\n",
    "          \n"
   ]
  },
  {
   "cell_type": "code",
   "execution_count": null,
   "metadata": {},
   "outputs": [],
   "source": []
  }
 ],
 "metadata": {
  "kernelspec": {
   "display_name": "nlp",
   "language": "python",
   "name": "python3"
  },
  "language_info": {
   "codemirror_mode": {
    "name": "ipython",
    "version": 3
   },
   "file_extension": ".py",
   "mimetype": "text/x-python",
   "name": "python",
   "nbconvert_exporter": "python",
   "pygments_lexer": "ipython3",
   "version": "3.10.14"
  }
 },
 "nbformat": 4,
 "nbformat_minor": 2
}
