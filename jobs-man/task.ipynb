{
 "cells": [
  {
   "cell_type": "markdown",
   "metadata": {},
   "source": [
    "# test of task.py"
   ]
  },
  {
   "cell_type": "code",
   "execution_count": 1,
   "metadata": {},
   "outputs": [],
   "source": [
    "# import task.py\n",
    "from task import main"
   ]
  },
  {
   "cell_type": "code",
   "execution_count": 13,
   "metadata": {},
   "outputs": [
    {
     "name": "stdout",
     "output_type": "stream",
     "text": [
      "total 0\n"
     ]
    }
   ],
   "source": [
    "# input directory\n",
    "!ls -lt ./input"
   ]
  },
  {
   "cell_type": "code",
   "execution_count": 14,
   "metadata": {},
   "outputs": [
    {
     "name": "stdout",
     "output_type": "stream",
     "text": [
      "total 0\n"
     ]
    }
   ],
   "source": [
    "# output directory\n",
    "!ls -lt ./output"
   ]
  },
  {
   "cell_type": "code",
   "execution_count": 4,
   "metadata": {},
   "outputs": [
    {
     "name": "stdout",
     "output_type": "stream",
     "text": [
      "Verbose mode is enabled\n",
      "1 / 30 sec\n",
      "2 / 30 sec\n",
      "3 / 30 sec\n",
      "4 / 30 sec\n",
      "5 / 30 sec\n",
      "6 / 30 sec\n",
      "7 / 30 sec\n",
      "8 / 30 sec\n",
      "9 / 30 sec\n",
      "10 / 30 sec\n",
      "11 / 30 sec\n",
      "12 / 30 sec\n",
      "13 / 30 sec\n",
      "14 / 30 sec\n",
      "15 / 30 sec\n",
      "16 / 30 sec\n",
      "17 / 30 sec\n",
      "18 / 30 sec\n",
      "19 / 30 sec\n",
      "20 / 30 sec\n",
      "21 / 30 sec\n",
      "22 / 30 sec\n",
      "23 / 30 sec\n",
      "24 / 30 sec\n",
      "25 / 30 sec\n",
      "26 / 30 sec\n",
      "27 / 30 sec\n",
      "28 / 30 sec\n",
      "29 / 30 sec\n",
      "30 / 30 sec\n"
     ]
    }
   ],
   "source": [
    "# call main() in task.py\n",
    "\n",
    "# example\n",
    "main(input='./input', output='./output', log_dir='./log', verbose=1)"
   ]
  },
  {
   "cell_type": "code",
   "execution_count": 16,
   "metadata": {},
   "outputs": [],
   "source": [
    "# output directory\n",
    "!ls ./output"
   ]
  },
  {
   "cell_type": "code",
   "execution_count": 15,
   "metadata": {},
   "outputs": [
    {
     "name": "stdout",
     "output_type": "stream",
     "text": [
      "total 8\n",
      "-rw-r--r-- 1 suzuki suzuki 7579 Jul  8 21:51 task.log\n"
     ]
    }
   ],
   "source": [
    "# log directory\n",
    "!ls -l ./log"
   ]
  },
  {
   "cell_type": "code",
   "execution_count": 12,
   "metadata": {},
   "outputs": [
    {
     "name": "stdout",
     "output_type": "stream",
     "text": [
      "2024-07-08 21:51:30,210 - INFO - 21 / 30 sec\n",
      "2024-07-08 21:51:31,211 - INFO - 22 / 30 sec\n",
      "2024-07-08 21:51:32,212 - INFO - 23 / 30 sec\n",
      "2024-07-08 21:51:33,214 - INFO - 24 / 30 sec\n",
      "2024-07-08 21:51:34,215 - INFO - 25 / 30 sec\n",
      "2024-07-08 21:51:35,216 - INFO - 26 / 30 sec\n",
      "2024-07-08 21:51:36,218 - INFO - 27 / 30 sec\n",
      "2024-07-08 21:51:37,219 - INFO - 28 / 30 sec\n",
      "2024-07-08 21:51:38,220 - INFO - 29 / 30 sec\n",
      "2024-07-08 21:51:39,222 - INFO - 30 / 30 sec\n"
     ]
    }
   ],
   "source": [
    "!tail ./log/task.log"
   ]
  }
 ],
 "metadata": {
  "kernelspec": {
   "display_name": "llm-work",
   "language": "python",
   "name": "python3"
  },
  "language_info": {
   "codemirror_mode": {
    "name": "ipython",
    "version": 3
   },
   "file_extension": ".py",
   "mimetype": "text/x-python",
   "name": "python",
   "nbconvert_exporter": "python",
   "pygments_lexer": "ipython3",
   "version": "3.10.14"
  }
 },
 "nbformat": 4,
 "nbformat_minor": 2
}
